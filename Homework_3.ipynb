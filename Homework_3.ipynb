{
 "cells": [
  {
   "cell_type": "code",
   "execution_count": 21,
   "metadata": {},
   "outputs": [
    {
     "name": "stdout",
     "output_type": "stream",
     "text": [
      "The number of words longer than 10 characters is: 1\n",
      "ophthalmology\n",
      "cat\n",
      "racecar\n",
      "rotator\n"
     ]
    }
   ],
   "source": [
    "# 1) Create a list of 10 words and answer these questions:\n",
    "\n",
    "my_list = ['racecar', 'orange', 'rotator', 'cat', 'university', 'television', 'computer', 'omnivorous', 'abreviaton', 'ophthalmology']\n",
    "\n",
    "# How many words are longer than 10 characters\n",
    "\n",
    "count = 0\n",
    "for word in my_list:\n",
    "    if len(word) > 10:\n",
    "        count += 1\n",
    "print(f'The number of words longer than 10 characters is: {count}')\n",
    "        \n",
    "# Which word is the longest and shortest\n",
    "\n",
    "print(max(my_list, key=len))\n",
    "\n",
    "print(min(my_list, key=len))\n",
    "\n",
    "# Is even one word palindrome, if so, what or what are those words\n",
    "for word in my_list:\n",
    "    if word[::-1] == word:\n",
    "        print(word)"
   ]
  },
  {
   "cell_type": "code",
   "execution_count": 51,
   "metadata": {},
   "outputs": [
    {
     "name": "stdout",
     "output_type": "stream",
     "text": [
      "Largest product: 21\n"
     ]
    }
   ],
   "source": [
    "# 2) With a list, get the largest product of nearby numbers my_list = [3, 6, -2, -5, 7, 3]\n",
    "\n",
    "my_list = [3, 6, -2, -5, 7, 3]\n",
    "result = max(a * b for a, b in zip(my_list, my_list[1:]))\n",
    "print(f'Largest product: {result}')\n",
    "\n",
    "# Result should be 21"
   ]
  },
  {
   "cell_type": "code",
   "execution_count": 42,
   "metadata": {},
   "outputs": [
    {
     "data": {
      "text/plain": [
       "[8, 9, 3, 15]"
      ]
     },
     "execution_count": 42,
     "metadata": {},
     "output_type": "execute_result"
    }
   ],
   "source": [
    "# 3) Find duplicate items between two lists\n",
    "\n",
    "a = [1,2,3,4,5,6,7,8,9,15]\n",
    "b = [3,8,9,11,15]\n",
    "\n",
    "list(set(a).intersection(b))"
   ]
  },
  {
   "cell_type": "code",
   "execution_count": 40,
   "metadata": {},
   "outputs": [
    {
     "data": {
      "text/plain": [
       "{1, 2, 5, 8, 10, 12, 14, 800, 900}"
      ]
     },
     "execution_count": 40,
     "metadata": {},
     "output_type": "execute_result"
    }
   ],
   "source": [
    "# 4) Filter out unique positive numbers from the list\n",
    "\n",
    "x = [1, 5, 1, 2, 8, -9, 10, 1, -8, -900, 14, 5, -8, 2, 1, -20, 900, 800, -6, -8, 12, 1]\n",
    "\n",
    "x_set = set(filter(lambda x : x > 0, x))\n",
    "\n",
    "x_set\n"
   ]
  },
  {
   "cell_type": "code",
   "execution_count": 49,
   "metadata": {},
   "outputs": [
    {
     "data": {
      "text/plain": [
       "14796.0"
      ]
     },
     "execution_count": 49,
     "metadata": {},
     "output_type": "execute_result"
    }
   ],
   "source": [
    "# 5) Calculate the profit on the sale of all goods. Price and quantity information is provided as a dictionary, the answer rounded to 2 decimal places.\n",
    "\n",
    "x = { \"cost_price\": 32.67, \n",
    "         \"sell_price\": 45.00,      \n",
    "          \"inventory\": 1200  \n",
    "          }\n",
    "\n",
    "profit = (x[\"sell_price\"] - x[\"cost_price\"]) * x[\"inventory\"]\n",
    "\n",
    "print(round(profit, 2))"
   ]
  }
 ],
 "metadata": {
  "kernelspec": {
   "display_name": "Python 3",
   "language": "python",
   "name": "python3"
  },
  "language_info": {
   "codemirror_mode": {
    "name": "ipython",
    "version": 3
   },
   "file_extension": ".py",
   "mimetype": "text/x-python",
   "name": "python",
   "nbconvert_exporter": "python",
   "pygments_lexer": "ipython3",
   "version": "3.9.7"
  },
  "orig_nbformat": 4
 },
 "nbformat": 4,
 "nbformat_minor": 2
}
