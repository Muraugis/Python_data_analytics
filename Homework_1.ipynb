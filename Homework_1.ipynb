{
 "cells": [
  {
   "cell_type": "code",
   "execution_count": 3,
   "metadata": {},
   "outputs": [
    {
     "name": "stdout",
     "output_type": "stream",
     "text": [
      "1\n",
      "2\n",
      "3\n",
      "4\n",
      "5\n",
      "6\n",
      "7\n",
      "8\n",
      "9\n",
      "10\n"
     ]
    }
   ],
   "source": [
    "# 1.1 Print the first 10 inclusive numbers using for loop.\n",
    "\n",
    "for number in range(1,11):\n",
    "    print(number)"
   ]
  },
  {
   "cell_type": "code",
   "execution_count": 4,
   "metadata": {},
   "outputs": [
    {
     "name": "stdout",
     "output_type": "stream",
     "text": [
      "1275\n"
     ]
    }
   ],
   "source": [
    "#1.2 Get the sum of the first 50 numbers inclusive.\n",
    "\n",
    "my_number = 0\n",
    "for number in range(1,51):\n",
    "    my_number += number\n",
    "print(my_number)"
   ]
  },
  {
   "cell_type": "code",
   "execution_count": 5,
   "metadata": {},
   "outputs": [
    {
     "name": "stdout",
     "output_type": "stream",
     "text": [
      "25 * 1 = 25\n",
      "25 * 2 = 50\n",
      "25 * 3 = 75\n",
      "25 * 4 = 100\n",
      "25 * 5 = 125\n",
      "25 * 6 = 150\n",
      "25 * 7 = 175\n",
      "25 * 8 = 200\n",
      "25 * 9 = 225\n",
      "25 * 10 = 250\n"
     ]
    }
   ],
   "source": [
    "# 2. Use Input() to select a number, print its product from 1 to 10 inclusive.\n",
    "\n",
    "user_number = int(input('Please enter a number'))\n",
    "\n",
    "for number in range(1,11):\n",
    "    print(f'{user_number} * {number} = {number * user_number}')"
   ]
  },
  {
   "cell_type": "code",
   "execution_count": 6,
   "metadata": {},
   "outputs": [
    {
     "name": "stdout",
     "output_type": "stream",
     "text": [
      "[('Monday', 10), ('Monday', 11), ('Monday', 12), ('Monday', 13), ('Monday', 14), ('Monday', 15), ('Monday', 16), ('Monday', 17), ('Monday', 18), ('Monday', 19), ('Tuesday', 10), ('Tuesday', 11), ('Tuesday', 12), ('Tuesday', 13), ('Tuesday', 14), ('Tuesday', 15), ('Tuesday', 16), ('Tuesday', 17), ('Tuesday', 18), ('Tuesday', 19), ('Wednesday', 10), ('Wednesday', 11), ('Wednesday', 12), ('Wednesday', 13), ('Wednesday', 14), ('Wednesday', 15), ('Wednesday', 16), ('Wednesday', 17), ('Wednesday', 18), ('Wednesday', 19), ('Thursday', 10), ('Thursday', 11), ('Thursday', 12), ('Thursday', 13), ('Thursday', 14), ('Thursday', 15), ('Thursday', 16), ('Thursday', 17), ('Thursday', 18), ('Thursday', 19), ('Friday', 10), ('Friday', 11), ('Friday', 12), ('Friday', 13), ('Friday', 14), ('Friday', 15), ('Friday', 16), ('Friday', 17), ('Friday', 18), ('Friday', 19), ('Saturday', 10), ('Saturday', 11), ('Saturday', 12), ('Saturday', 13), ('Saturday', 14), ('Saturday', 15), ('Saturday', 16), ('Saturday', 17), ('Saturday', 18), ('Saturday', 19), ('Sunday', 10), ('Sunday', 11), ('Sunday', 12), ('Sunday', 13), ('Sunday', 14), ('Sunday', 15), ('Sunday', 16), ('Sunday', 17), ('Sunday', 18), ('Sunday', 19)]\n"
     ]
    }
   ],
   "source": [
    "# 3. Get all possible combinations from these lists, add them to a single list.\n",
    "\n",
    "full_list = []\n",
    "days = ('Monday', 'Tuesday', 'Wednesday', 'Thursday', 'Friday', 'Saturday' , 'Sunday')\n",
    "hours = [10, 11, 12, 13, 14, 15, 16, 17, 18, 19]\n",
    "\n",
    "for day in days:\n",
    "    for hour in hours:\n",
    "        full_list.append((day, hour))\n",
    "\n",
    "print(full_list)"
   ]
  },
  {
   "cell_type": "code",
   "execution_count": 7,
   "metadata": {},
   "outputs": [
    {
     "data": {
      "text/plain": [
       "[('Monday', 12),\n",
       " ('Monday', 13),\n",
       " ('Monday', 14),\n",
       " ('Monday', 15),\n",
       " ('Monday', 16),\n",
       " ('Monday', 17),\n",
       " ('Wednesday', 12),\n",
       " ('Wednesday', 13),\n",
       " ('Wednesday', 14),\n",
       " ('Wednesday', 15),\n",
       " ('Wednesday', 16),\n",
       " ('Wednesday', 17)]"
      ]
     },
     "execution_count": 7,
     "metadata": {},
     "output_type": "execute_result"
    }
   ],
   "source": [
    "full_list = []\n",
    "days = ('Monday', 'Tuesday', 'Wednesday', 'Thursday', 'Friday', 'Saturday' , 'Sunday')\n",
    "hours = [10, 11, 12, 13, 14, 15, 16, 17, 18, 19]\n",
    "\n",
    "for day in days:\n",
    "    for hour in hours:\n",
    "        if day == 'Monday' or day == 'Wednesday':\n",
    "            if hour > 11 and hour <18:\n",
    "                full_list.append((day, hour))\n",
    "\n",
    "full_list"
   ]
  },
  {
   "cell_type": "code",
   "execution_count": null,
   "metadata": {},
   "outputs": [],
   "source": []
  }
 ],
 "metadata": {
  "kernelspec": {
   "display_name": "Python 3",
   "language": "python",
   "name": "python3"
  },
  "language_info": {
   "codemirror_mode": {
    "name": "ipython",
    "version": 3
   },
   "file_extension": ".py",
   "mimetype": "text/x-python",
   "name": "python",
   "nbconvert_exporter": "python",
   "pygments_lexer": "ipython3",
   "version": "3.9.7"
  },
  "orig_nbformat": 4,
  "vscode": {
   "interpreter": {
    "hash": "861cfa08ddf894c4782b901d5bcfb911fde1ff0be835281a6d0a12f20fdacdad"
   }
  }
 },
 "nbformat": 4,
 "nbformat_minor": 2
}
