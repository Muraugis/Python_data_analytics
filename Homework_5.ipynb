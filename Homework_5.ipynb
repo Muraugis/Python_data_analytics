{
 "cells": [
  {
   "cell_type": "code",
   "execution_count": 9,
   "metadata": {},
   "outputs": [
    {
     "name": "stdout",
     "output_type": "stream",
     "text": [
      "[6.33333333 3.33333333 4.66666667]\n",
      "[2.1602469  1.63299316 2.86744176]\n",
      "43\n"
     ]
    }
   ],
   "source": [
    "import numpy as np\n",
    "\n",
    "np_array = np.array([\n",
    "        [7, 4, 8],\n",
    "       [3, 6, 1],\n",
    "       [2, 8, 4]]\n",
    ")\n",
    "\n",
    "print(np_array.mean(axis=1))\n",
    "print(np_array.std(axis=0))\n",
    "print(np_array.sum())"
   ]
  },
  {
   "cell_type": "code",
   "execution_count": 15,
   "metadata": {},
   "outputs": [
    {
     "name": "stdout",
     "output_type": "stream",
     "text": [
      "[[7 7 1 4]\n",
      " [4 2 6 9]\n",
      " [6 3 7 5]\n",
      " [9 5 5 8]\n",
      " [8 3 6 2]\n",
      " [1 7 9 9]]\n"
     ]
    }
   ],
   "source": [
    "a = np.array([\n",
    "       [7, 7, 1, 4],\n",
    "       [4, 2, 6, 9],\n",
    "       [6, 3, 7, 5]])\n",
    "\n",
    "b = np.array([\n",
    "       [9, 5, 5, 8],\n",
    "       [8, 3, 6, 2],\n",
    "       [1, 7, 9, 9]])\n",
    "\n",
    "conc = np.concatenate([a,b])\n",
    "print(conc)"
   ]
  },
  {
   "cell_type": "code",
   "execution_count": 17,
   "metadata": {},
   "outputs": [
    {
     "name": "stdout",
     "output_type": "stream",
     "text": [
      "27\n",
      "1\n"
     ]
    }
   ],
   "source": [
    "a = np.array([\n",
    "       [27,  2,  7],\n",
    "       [ 1, 27, 11],\n",
    "       [26, 22, 27],\n",
    "       [22, 24, 22],\n",
    "       [19, 27, 20]])\n",
    "\n",
    "print(a.max())\n",
    "print(a.min())"
   ]
  },
  {
   "cell_type": "code",
   "execution_count": 31,
   "metadata": {},
   "outputs": [
    {
     "name": "stdout",
     "output_type": "stream",
     "text": [
      "[12 15  4 17 22 21 28 27  4 18 23 22 22 17 23 18]\n"
     ]
    }
   ],
   "source": [
    "a = np.array([\n",
    "       [12, 4],\n",
    "       [15, 18],\n",
    "       [4, 23],\n",
    "       [17, 22],\n",
    "       [22, 22],\n",
    "       [21, 17],\n",
    "       [28, 23],\n",
    "       [27, 18]])\n",
    "\n",
    "\n",
    "print(a.transpose().flatten())"
   ]
  },
  {
   "cell_type": "code",
   "execution_count": null,
   "metadata": {},
   "outputs": [],
   "source": []
  }
 ],
 "metadata": {
  "kernelspec": {
   "display_name": "Python 3",
   "language": "python",
   "name": "python3"
  },
  "language_info": {
   "codemirror_mode": {
    "name": "ipython",
    "version": 3
   },
   "file_extension": ".py",
   "mimetype": "text/x-python",
   "name": "python",
   "nbconvert_exporter": "python",
   "pygments_lexer": "ipython3",
   "version": "3.9.7"
  },
  "orig_nbformat": 4
 },
 "nbformat": 4,
 "nbformat_minor": 2
}
