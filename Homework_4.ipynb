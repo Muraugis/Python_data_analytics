{
 "cells": [
  {
   "cell_type": "code",
   "execution_count": 8,
   "metadata": {},
   "outputs": [
    {
     "name": "stdout",
     "output_type": "stream",
     "text": [
      "UiNWv1@&99WWAI~\n"
     ]
    }
   ],
   "source": [
    "import string\n",
    "import random\n",
    "\n",
    "def password_generator(length: int) -> str:\n",
    "    symbols = string.printable # Could be more specifically defined based on type of characters desired\n",
    "    password = [random.choice(symbols) for _ in range(length)]\n",
    "    password = ''.join(password)\n",
    "    return password\n",
    "\n",
    "print(password_generator(15))\n"
   ]
  },
  {
   "cell_type": "code",
   "execution_count": 14,
   "metadata": {},
   "outputs": [
    {
     "name": "stdout",
     "output_type": "stream",
     "text": [
      "16\n",
      "26\n",
      "31\n",
      "1002\n"
     ]
    }
   ],
   "source": [
    "def fn(list_1: list, k: int ):\n",
    "    sums = [\n",
    "        sum(list_1[neighbor_idx] for neighbor_idx in range(idx, idx + k))\n",
    "        for idx in range(len(list_1) - k + 1)\n",
    "    ]\n",
    "    return max(sums)\n",
    "\n",
    "print(fn((2,3,4,5,10,16,1,1), 1))\n",
    "print(fn((2,3,4,5,10,16,1,1), 2))\n",
    "print(fn((2,3,4,5,10,16,1,1), 3))\n",
    "print(fn((2,3,4,5,10,16,1,1, 1000), 3))"
   ]
  },
  {
   "cell_type": "code",
   "execution_count": 20,
   "metadata": {},
   "outputs": [
    {
     "name": "stdout",
     "output_type": "stream",
     "text": [
      "[(4, 0), (8, 4)]\n",
      "[(2, 0), (4, 2)]\n",
      "[(8, -2)]\n",
      "False\n"
     ]
    }
   ],
   "source": [
    "def k_diff(list_1, k):\n",
    "    diff_list = []\n",
    "    for number_1 in list_1:\n",
    "        diff_list.extend(\n",
    "            (number_1, number_2)\n",
    "            for number_2 in list_1\n",
    "            if (number_1 - number_2) == k\n",
    "        )\n",
    "    if diff_list:\n",
    "        return diff_list\n",
    "    else:\n",
    "        return False\n",
    "\n",
    "print(k_diff([0,2,4,8], 4))\n",
    "\n",
    "print(k_diff([0,2,4,8], 2))\n",
    "\n",
    "\n",
    "print(k_diff([-2,0,2,4,8], 10))\n",
    "\n",
    "print(k_diff([-2,0,2,4,8], 11))\n"
   ]
  },
  {
   "cell_type": "code",
   "execution_count": 22,
   "metadata": {},
   "outputs": [],
   "source": [
    "import os"
   ]
  },
  {
   "cell_type": "code",
   "execution_count": 27,
   "metadata": {},
   "outputs": [
    {
     "data": {
      "text/plain": [
       "'C:\\\\Users\\\\murau\\\\Desktop\\\\Python\\\\Python1-1'"
      ]
     },
     "execution_count": 27,
     "metadata": {},
     "output_type": "execute_result"
    }
   ],
   "source": [
    "os.getcwd()"
   ]
  },
  {
   "cell_type": "code",
   "execution_count": 28,
   "metadata": {},
   "outputs": [],
   "source": [
    "os.chdir('../..')"
   ]
  },
  {
   "cell_type": "code",
   "execution_count": 30,
   "metadata": {},
   "outputs": [
    {
     "data": {
      "text/plain": [
       "'C:\\\\Users\\\\murau\\\\Desktop'"
      ]
     },
     "execution_count": 30,
     "metadata": {},
     "output_type": "execute_result"
    }
   ],
   "source": [
    "os.getcwd()"
   ]
  },
  {
   "cell_type": "code",
   "execution_count": 31,
   "metadata": {},
   "outputs": [],
   "source": [
    "os.mkdir('a')"
   ]
  },
  {
   "cell_type": "code",
   "execution_count": 32,
   "metadata": {},
   "outputs": [],
   "source": [
    "os.mkdir('a/b') "
   ]
  },
  {
   "cell_type": "code",
   "execution_count": 33,
   "metadata": {},
   "outputs": [
    {
     "data": {
      "text/plain": [
       "['b']"
      ]
     },
     "execution_count": 33,
     "metadata": {},
     "output_type": "execute_result"
    }
   ],
   "source": [
    "os.listdir('a')"
   ]
  },
  {
   "cell_type": "code",
   "execution_count": 41,
   "metadata": {},
   "outputs": [],
   "source": [
    "os.chdir('a/b')"
   ]
  },
  {
   "cell_type": "code",
   "execution_count": 43,
   "metadata": {},
   "outputs": [
    {
     "name": "stdout",
     "output_type": "stream",
     "text": [
      "\n",
      "123test\n"
     ]
    }
   ],
   "source": [
    "with open('Test.txt', 'r') as file:\n",
    "    f_content = file.read()\n",
    "    print(f_content)"
   ]
  },
  {
   "cell_type": "code",
   "execution_count": 44,
   "metadata": {},
   "outputs": [
    {
     "data": {
      "text/plain": [
       "'Renamed.txt'"
      ]
     },
     "execution_count": 44,
     "metadata": {},
     "output_type": "execute_result"
    }
   ],
   "source": [
    "import shutil\n",
    "\n",
    "shutil.copyfile('Test.txt', 'Renamed.txt')"
   ]
  },
  {
   "cell_type": "code",
   "execution_count": 46,
   "metadata": {},
   "outputs": [
    {
     "data": {
      "text/plain": [
       "['Renamed.txt', 'Test.txt']"
      ]
     },
     "execution_count": 46,
     "metadata": {},
     "output_type": "execute_result"
    }
   ],
   "source": [
    "os.listdir()"
   ]
  },
  {
   "cell_type": "code",
   "execution_count": 48,
   "metadata": {},
   "outputs": [],
   "source": [
    "if os.path.exists('Renamed.txt'):\n",
    "    os.remove('Renamed.txt')"
   ]
  },
  {
   "cell_type": "code",
   "execution_count": 50,
   "metadata": {},
   "outputs": [
    {
     "data": {
      "text/plain": [
       "['Test.txt']"
      ]
     },
     "execution_count": 50,
     "metadata": {},
     "output_type": "execute_result"
    }
   ],
   "source": [
    "os.listdir()"
   ]
  },
  {
   "cell_type": "code",
   "execution_count": 51,
   "metadata": {},
   "outputs": [],
   "source": [
    "os.chdir('../..')"
   ]
  },
  {
   "cell_type": "code",
   "execution_count": 52,
   "metadata": {},
   "outputs": [],
   "source": [
    "shutil.rmtree('a')"
   ]
  },
  {
   "cell_type": "code",
   "execution_count": 58,
   "metadata": {},
   "outputs": [],
   "source": [
    "def char_count(my_string):\n",
    "    letters = 0\n",
    "    numbers = 0\n",
    "    punctuation = 0\n",
    "    spaces = 0\n",
    "    \n",
    "    for char in my_string:\n",
    "        if char in string.ascii_letters:\n",
    "            letters += 1\n",
    "        elif char in string.digits:\n",
    "            numbers += 1\n",
    "        elif char in string.punctuation:\n",
    "            punctuation += 1\n",
    "        else:  # string.whitespace could be more specific here to account for the possibility of special characters not included in the above character types\n",
    "            spaces += 1\n",
    "    return(f'Letters: {letters}, numbers: {numbers}, punctuation characters: {punctuation}, spaces: {spaces}')"
   ]
  },
  {
   "cell_type": "code",
   "execution_count": 59,
   "metadata": {},
   "outputs": [
    {
     "name": "stdout",
     "output_type": "stream",
     "text": [
      "Letters: 3, numbers: 1, punctuation characters: 2, spaces: 2\n",
      "Letters: 150, numbers: 1, punctuation characters: 5, spaces: 32\n"
     ]
    }
   ],
   "source": [
    "print(char_count('one 2 ??'))\n",
    "print(char_count(\"2. Write a function that will accept a variable of type string, return as how many letters, numbers and punctuation characters there are in the string, the space must not be a punctuation.\"))"
   ]
  },
  {
   "cell_type": "code",
   "execution_count": null,
   "metadata": {},
   "outputs": [],
   "source": []
  }
 ],
 "metadata": {
  "kernelspec": {
   "display_name": "Python 3",
   "language": "python",
   "name": "python3"
  },
  "language_info": {
   "codemirror_mode": {
    "name": "ipython",
    "version": 3
   },
   "file_extension": ".py",
   "mimetype": "text/x-python",
   "name": "python",
   "nbconvert_exporter": "python",
   "pygments_lexer": "ipython3",
   "version": "3.9.7"
  },
  "orig_nbformat": 4
 },
 "nbformat": 4,
 "nbformat_minor": 2
}
